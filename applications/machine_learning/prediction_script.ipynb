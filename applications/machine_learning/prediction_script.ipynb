{
 "cells": [
  {
   "cell_type": "code",
   "execution_count": 2,
   "id": "50a41935",
   "metadata": {},
   "outputs": [
    {
     "name": "stderr",
     "output_type": "stream",
     "text": [
      "Importing plotly failed. Interactive plots will not work.\n"
     ]
    }
   ],
   "source": [
    "import pandas as pd\n",
    "import matplotlib.pyplot as plt\n",
    "from fbprophet import Prophet"
   ]
  },
  {
   "cell_type": "code",
   "execution_count": 3,
   "id": "3f9ed6fc",
   "metadata": {},
   "outputs": [
    {
     "data": {
      "text/html": [
       "<div>\n",
       "<style scoped>\n",
       "    .dataframe tbody tr th:only-of-type {\n",
       "        vertical-align: middle;\n",
       "    }\n",
       "\n",
       "    .dataframe tbody tr th {\n",
       "        vertical-align: top;\n",
       "    }\n",
       "\n",
       "    .dataframe thead th {\n",
       "        text-align: right;\n",
       "    }\n",
       "</style>\n",
       "<table border=\"1\" class=\"dataframe\">\n",
       "  <thead>\n",
       "    <tr style=\"text-align: right;\">\n",
       "      <th></th>\n",
       "      <th>y</th>\n",
       "    </tr>\n",
       "    <tr>\n",
       "      <th>ds</th>\n",
       "      <th></th>\n",
       "    </tr>\n",
       "  </thead>\n",
       "  <tbody>\n",
       "    <tr>\n",
       "      <th>2021-08-18 13:36:01</th>\n",
       "      <td>469.109985</td>\n",
       "    </tr>\n",
       "    <tr>\n",
       "      <th>2021-08-18 13:36:07</th>\n",
       "      <td>468.869995</td>\n",
       "    </tr>\n",
       "    <tr>\n",
       "      <th>2021-08-18 13:40:18</th>\n",
       "      <td>478.920013</td>\n",
       "    </tr>\n",
       "    <tr>\n",
       "      <th>2021-08-18 13:40:22</th>\n",
       "      <td>478.950012</td>\n",
       "    </tr>\n",
       "    <tr>\n",
       "      <th>2021-08-18 15:38:14</th>\n",
       "      <td>456.260010</td>\n",
       "    </tr>\n",
       "    <tr>\n",
       "      <th>...</th>\n",
       "      <td>...</td>\n",
       "    </tr>\n",
       "    <tr>\n",
       "      <th>2021-08-23 17:20:12</th>\n",
       "      <td>599.559998</td>\n",
       "    </tr>\n",
       "    <tr>\n",
       "      <th>2021-08-23 17:20:23</th>\n",
       "      <td>598.799988</td>\n",
       "    </tr>\n",
       "    <tr>\n",
       "      <th>2021-08-23 17:20:33</th>\n",
       "      <td>596.219971</td>\n",
       "    </tr>\n",
       "    <tr>\n",
       "      <th>2021-08-23 17:20:44</th>\n",
       "      <td>597.559998</td>\n",
       "    </tr>\n",
       "    <tr>\n",
       "      <th>2021-08-23 17:20:55</th>\n",
       "      <td>599.609985</td>\n",
       "    </tr>\n",
       "  </tbody>\n",
       "</table>\n",
       "<p>240 rows × 1 columns</p>\n",
       "</div>"
      ],
      "text/plain": [
       "                              y\n",
       "ds                             \n",
       "2021-08-18 13:36:01  469.109985\n",
       "2021-08-18 13:36:07  468.869995\n",
       "2021-08-18 13:40:18  478.920013\n",
       "2021-08-18 13:40:22  478.950012\n",
       "2021-08-18 15:38:14  456.260010\n",
       "...                         ...\n",
       "2021-08-23 17:20:12  599.559998\n",
       "2021-08-23 17:20:23  598.799988\n",
       "2021-08-23 17:20:33  596.219971\n",
       "2021-08-23 17:20:44  597.559998\n",
       "2021-08-23 17:20:55  599.609985\n",
       "\n",
       "[240 rows x 1 columns]"
      ]
     },
     "execution_count": 3,
     "metadata": {},
     "output_type": "execute_result"
    }
   ],
   "source": [
    "df = pd.read_csv('co2_data.csv')\n",
    "df.columns = ['ds', 'y']\n",
    "df['ds'] = pd.to_datetime(df[\"ds\"], format='%Y-%m-%d %H:%M:%S')\n",
    "df['y'] = pd.to_numeric(df.y.str.replace('ppm', ''), downcast='float')\n",
    "df.set_index('ds')"
   ]
  },
  {
   "cell_type": "code",
   "execution_count": 3,
   "id": "313dd52a",
   "metadata": {},
   "outputs": [
    {
     "data": {
      "text/plain": [
       "<AxesSubplot:>"
      ]
     },
     "execution_count": 3,
     "metadata": {},
     "output_type": "execute_result"
    },
    {
     "data": {
      "image/png": "[encoded data removed]",
      "text/plain": [
       "<Figure size 432x288 with 1 Axes>"
      ]
     },
     "metadata": {
      "needs_background": "light"
     },
     "output_type": "display_data"
    }
   ],
   "source": [
    "values = df['y']\n",
    "values.plot()"
   ]
  },
  {
   "cell_type": "code",
   "execution_count": 5,
   "id": "a3828ad2",
   "metadata": {},
   "outputs": [
    {
     "name": "stderr",
     "output_type": "stream",
     "text": [
      "INFO:fbprophet:Disabling yearly seasonality. Run prophet with yearly_seasonality=True to override this.\n",
      "INFO:fbprophet:Disabling weekly seasonality. Run prophet with weekly_seasonality=True to override this.\n"
     ]
    },
    {
     "name": "stdout",
     "output_type": "stream",
     "text": [
      "Initial log joint probability = -2.42029\n",
      "    Iter      log prob        ||dx||      ||grad||       alpha      alpha0  # evals  Notes \n",
      "      99       865.551     0.0105034       563.017      0.5024      0.5024      130   \n",
      "    Iter      log prob        ||dx||      ||grad||       alpha      alpha0  # evals  Notes \n",
      "     199       881.047    0.00151833       104.262      0.3712           1      258   \n",
      "    Iter      log prob        ||dx||      ||grad||       alpha      alpha0  # evals  Notes \n",
      "     215       883.509   0.000105635       183.332   2.451e-07       0.001      326  LS failed, Hessian reset \n",
      "     270       887.043    8.3347e-05       134.136   5.679e-07       0.001      433  LS failed, Hessian reset \n",
      "     299       887.507   0.000196992       88.5886      0.3007           1      468   \n",
      "    Iter      log prob        ||dx||      ||grad||       alpha      alpha0  # evals  Notes \n",
      "     359       887.671   4.02042e-08       78.7555      0.3707           1      548   \n",
      "Optimization terminated normally: \n",
      "  Convergence detected: relative gradient magnitude is below tolerance\n"
     ]
    },
    {
     "data": {
      "text/plain": [
       "<fbprophet.forecaster.Prophet at 0x7f18423cfca0>"
      ]
     },
     "execution_count": 5,
     "metadata": {},
     "output_type": "execute_result"
    }
   ],
   "source": [
    "model = Prophet()\n",
    "model.fit(df)"
   ]
  },
  {
   "cell_type": "code",
   "execution_count": 8,
   "id": "0604e62a",
   "metadata": {},
   "outputs": [],
   "source": [
    "future = model.make_future_dataframe(periods=1 * 1)\n",
    "forecast = model.predict(future)"
   ]
  },
  {
   "cell_type": "code",
   "execution_count": 9,
   "id": "5b9ed4ed",
   "metadata": {},
   "outputs": [
    {
     "data": {
      "image/png": "[encoded data removed]",
      "text/plain": [
       "<Figure size 720x432 with 1 Axes>"
      ]
     },
     "metadata": {},
     "output_type": "display_data"
    }
   ],
   "source": [
    "fig = model.plot(forecast, xlabel='date', ylabel='value')\n",
    "plt.title('co2 value in ppm')\n",
    "plt.show()"
   ]
  }
 ],
 "metadata": {
  "kernelspec": {
   "display_name": "propet",
   "language": "python",
   "name": "propet"
  },
  "language_info": {
   "codemirror_mode": {
    "name": "ipython",
    "version": 3
   },
   "file_extension": ".py",
   "mimetype": "text/x-python",
   "name": "python",
   "nbconvert_exporter": "python",
   "pygments_lexer": "ipython3",
   "version": "3.8.11"
  }
 },
 "nbformat": 4,
 "nbformat_minor": 5
}
